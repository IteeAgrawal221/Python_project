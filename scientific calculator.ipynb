{
 "cells": [
  {
   "cell_type": "code",
   "execution_count": 1,
   "metadata": {},
   "outputs": [],
   "source": [
    "#importing library\n",
    "\n",
    "import math"
   ]
  },
  {
   "cell_type": "code",
   "execution_count": 2,
   "metadata": {},
   "outputs": [],
   "source": [
    "def add(a,b):\n",
    "    sum = a+b\n",
    "    return sum"
   ]
  },
  {
   "cell_type": "code",
   "execution_count": 3,
   "metadata": {},
   "outputs": [],
   "source": [
    "def subtract(a,b):\n",
    "    sub = a-b\n",
    "    return sub"
   ]
  },
  {
   "cell_type": "code",
   "execution_count": 13,
   "metadata": {},
   "outputs": [],
   "source": [
    "def multiply(a,b):\n",
    "    mul = a*b\n",
    "    return mul"
   ]
  },
  {
   "cell_type": "code",
   "execution_count": 5,
   "metadata": {},
   "outputs": [],
   "source": [
    "def divide(a,b):\n",
    "    div = a/b\n",
    "    return div"
   ]
  },
  {
   "cell_type": "code",
   "execution_count": 6,
   "metadata": {},
   "outputs": [],
   "source": [
    "def sqrt(a):\n",
    "    result = math.sqrt(a)\n",
    "    return result"
   ]
  },
  {
   "cell_type": "code",
   "execution_count": 7,
   "metadata": {},
   "outputs": [],
   "source": [
    "def exp(a):\n",
    "    expo = a ** 2\n",
    "    return expo"
   ]
  },
  {
   "cell_type": "code",
   "execution_count": 8,
   "metadata": {},
   "outputs": [],
   "source": [
    "def sin(x):\n",
    "    result = math.sin(x)\n",
    "    return result"
   ]
  },
  {
   "cell_type": "code",
   "execution_count": 9,
   "metadata": {},
   "outputs": [],
   "source": [
    "def cos(x):\n",
    "    result = math.cos(x)\n",
    "    return result"
   ]
  },
  {
   "cell_type": "code",
   "execution_count": 10,
   "metadata": {},
   "outputs": [],
   "source": [
    "def tan(x):\n",
    "    result = math.tan(x)\n",
    "    return result"
   ]
  },
  {
   "cell_type": "code",
   "execution_count": null,
   "metadata": {},
   "outputs": [],
   "source": [
    "#choosing the opeartion\n",
    "\n",
    "print(\"\"\" \n",
    "choose a number for the following operations\n",
    "1- Addition (x,y)\n",
    "2- Subtraction(x,y)\n",
    "3- Multiplication(x,y)\n",
    "4- Divide(x,y)\n",
    "5- Square(x)\n",
    "6- Square root(x)\n",
    "7- sin(x)\n",
    "8- cos(x)\n",
    "9- tan(x)\"\"\")\n",
    "op = int(input('What operation do you want to perform: '))"
   ]
  },
  {
   "cell_type": "code",
   "execution_count": null,
   "metadata": {},
   "outputs": [],
   "source": [
    "while op < 10:\n",
    "    if op == 1:\n",
    "        print('enter the parameters ')\n",
    "        x1 = int(input('enter x: '))\n",
    "        result1 = add(x1,y1)\n",
    "        print('addition', result1)\n",
    "        \n",
    "    elif op == 2:\n",
    "        x2 = int(input('enter x: '))\n",
    "        y2 = int(input('enter y: '))\n",
    "        result2 = sub(x1,y1)\n",
    "        print('subtraction',result2)\n",
    "        \n",
    "    elif op == 3:\n",
    "        x3 = int(input('enter x: '))\n",
    "        y3 = int(input('enter y: '))\n",
    "        result3 = multiply(x3,y3)\n",
    "        print('multiplication',result3)\n",
    "        \n",
    "    elif op == 4:\n",
    "        x4 = int(input('enter x: '))\n",
    "        y4 = int(input('enter y: '))\n",
    "        result4 = divide(x4,y4)\n",
    "        print('division',result4)\n",
    "        \n",
    "    elif op == 5:\n",
    "        x5 = int(input('enter x: '))\n",
    "        result5 = exp(x5)\n",
    "        print('square', result5)\n",
    "    \n",
    "    elif op == 6:\n",
    "        x6 = int(input('enter x: '))\n",
    "        result6 = sqrt(x6)\n",
    "        print('square root', result6)\n",
    "    \n",
    "    elif op == 7:\n",
    "        x7 = int(input('enter x: '))\n",
    "        result7 = sin(x7)\n",
    "        print('sin(x)',result7)\n",
    "    \n",
    "    elif op == 8:\n",
    "        x8 = int(input('enter x: '))\n",
    "        result8 = cos(x8)\n",
    "        print('cos(x)',result8)\n",
    "    \n",
    "    elif op == 9:\n",
    "        x9 = int(input('enter y: '))\n",
    "        result9 = tan(x9)\n",
    "        print('tan(x)', result9)\n",
    "        \n",
    "    else:\n",
    "        print('choose another operation: ')\n",
    "        \n",
    "        \n",
    "    new = int(input('Do you want to continue - (yes-1), (No - 0)'))\n",
    "    if new == 1:\n",
    "        op = int(input('enter operation: '))\n",
    "    \n",
    "    elif new == 0:\n",
    "        print('Thanks for using the scientific calculator.')\n",
    "        break"
   ]
  },
  {
   "cell_type": "code",
   "execution_count": null,
   "metadata": {},
   "outputs": [],
   "source": []
  }
 ],
 "metadata": {
  "kernelspec": {
   "display_name": "Python 3",
   "language": "python",
   "name": "python3"
  },
  "language_info": {
   "codemirror_mode": {
    "name": "ipython",
    "version": 3
   },
   "file_extension": ".py",
   "mimetype": "text/x-python",
   "name": "python",
   "nbconvert_exporter": "python",
   "pygments_lexer": "ipython3",
   "version": "3.8.5"
  }
 },
 "nbformat": 4,
 "nbformat_minor": 4
}
