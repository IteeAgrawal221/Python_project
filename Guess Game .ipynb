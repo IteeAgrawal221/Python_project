{
 "cells": [
  {
   "cell_type": "code",
   "execution_count": 5,
   "metadata": {},
   "outputs": [],
   "source": [
    "import random as r"
   ]
  },
  {
   "cell_type": "code",
   "execution_count": 6,
   "metadata": {},
   "outputs": [],
   "source": [
    "num = r.randrange(100)\n",
    "guess = 5"
   ]
  },
  {
   "cell_type": "code",
   "execution_count": 7,
   "metadata": {},
   "outputs": [
    {
     "name": "stdout",
     "output_type": "stream",
     "text": [
      "Enter your guess: 55\n",
      "You are close enough, keep trying lower value \n",
      "Enter your guess: 42\n",
      "you are close enough, keep trying higher value\n",
      "Enter your guess: 50\n",
      "you are close enough, keep trying higher value\n",
      "Enter your guess: 52\n",
      "you win\n",
      "Enter your guess: 25\n",
      "you are close enough, keep trying higher value\n",
      "this is your last chance, make the most of it\n",
      "Enter your guess: 22\n",
      "you lost\n"
     ]
    }
   ],
   "source": [
    "while guess >= 0:\n",
    "    your_guess = int(input('Enter your guess: '))\n",
    "\n",
    "    def check(x):\n",
    "        if your_guess == x:\n",
    "            print('you win')\n",
    "        elif your_guess > x:\n",
    "            print('You are close enough, keep trying lower value ')\n",
    "        else:\n",
    "            print('you are close enough, keep trying higher value')\n",
    "    if guess >1:\n",
    "        check(num)\n",
    "    elif guess ==1:\n",
    "        check(num)\n",
    "        print('this is your last chance, make the most of it')\n",
    "    else:\n",
    "        print('you lost')\n",
    "    guess = guess - 1"
   ]
  },
  {
   "cell_type": "code",
   "execution_count": null,
   "metadata": {},
   "outputs": [],
   "source": []
  },
  {
   "cell_type": "code",
   "execution_count": null,
   "metadata": {},
   "outputs": [],
   "source": []
  }
 ],
 "metadata": {
  "kernelspec": {
   "display_name": "Python 3",
   "language": "python",
   "name": "python3"
  },
  "language_info": {
   "codemirror_mode": {
    "name": "ipython",
    "version": 3
   },
   "file_extension": ".py",
   "mimetype": "text/x-python",
   "name": "python",
   "nbconvert_exporter": "python",
   "pygments_lexer": "ipython3",
   "version": "3.8.5"
  }
 },
 "nbformat": 4,
 "nbformat_minor": 4
}
